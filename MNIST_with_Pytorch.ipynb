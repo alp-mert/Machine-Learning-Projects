{
  "nbformat": 4,
  "nbformat_minor": 0,
  "metadata": {
    "colab": {
      "provenance": []
    },
    "kernelspec": {
      "name": "python3",
      "display_name": "Python 3"
    },
    "language_info": {
      "name": "python"
    }
  },
  "cells": [
    {
      "cell_type": "code",
      "execution_count": null,
      "metadata": {
        "id": "6nvYRON7-yYj"
      },
      "outputs": [],
      "source": [
        "import torch\n",
        "import torch.nn as nn\n",
        "import torchvision\n",
        "import torchvision.transforms as transforms\n",
        "import torchvision.datasets as dsets\n",
        "import torch.nn.functional as F\n",
        "import matplotlib.pyplot as plt\n",
        "import numpy as np\n",
        "import pandas as pd\n",
        "from sklearn.metrics import confusion_matrix, precision_score, recall_score, f1_score"
      ]
    },
    {
      "cell_type": "code",
      "source": [
        "# hyperparameters\n",
        "input_size = 784\n",
        "hidden_size_1 = 150\n",
        "hidden_size_2 = 100\n",
        "num_classes = 10\n",
        "\n",
        "epochs = 15\n",
        "\n",
        "learning_rate = 0.001"
      ],
      "metadata": {
        "id": "OQbTufiu_e84"
      },
      "execution_count": null,
      "outputs": []
    },
    {
      "cell_type": "markdown",
      "source": [
        "**Loading data**"
      ],
      "metadata": {
        "id": "mAIfcd7DrmUO"
      }
    },
    {
      "cell_type": "code",
      "source": [
        "mnist_train = dsets.MNIST(root='./data', train=True, download=True, transform=transforms.ToTensor())"
      ],
      "metadata": {
        "id": "XkoY2RBg_332"
      },
      "execution_count": null,
      "outputs": []
    },
    {
      "cell_type": "code",
      "source": [
        "mnist_test= dsets.MNIST(root='./data', train=False, download= False, transform=transforms.ToTensor())"
      ],
      "metadata": {
        "id": "o4ddNb38APrZ"
      },
      "execution_count": null,
      "outputs": []
    },
    {
      "cell_type": "code",
      "source": [
        "train_loader = torch.utils.data.DataLoader(dataset= mnist_train, batch_size = 100, shuffle= True)\n",
        "test_loader = torch.utils.data.DataLoader(dataset= mnist_test, batch_size = 500, shuffle= False)"
      ],
      "metadata": {
        "id": "um8LEf_WB2nZ"
      },
      "execution_count": null,
      "outputs": []
    },
    {
      "cell_type": "markdown",
      "source": [
        "**Train and test size and type**"
      ],
      "metadata": {
        "id": "E6peu7Ylrpnq"
      }
    },
    {
      "cell_type": "code",
      "source": [
        "for (X_train,y_train) in train_loader:\n",
        "  print(\"X_train:\", X_train.size(), \"type\", X_train.type())\n",
        "  print('y_train:', y_train.size(), 'type:', y_train.type())\n",
        "  break\n",
        "for (X_test,y_test) in test_loader:\n",
        "  print(\"X_test:\", X_test.size(), \"type\", X_test.type())\n",
        "  print('y_test:', y_test.size(), 'type:', y_test.type())\n",
        "  break"
      ],
      "metadata": {
        "colab": {
          "base_uri": "https://localhost:8080/"
        },
        "id": "zskaNApBB4ID",
        "outputId": "64f7e28e-20b2-4003-a55b-32bb47c0a61b"
      },
      "execution_count": null,
      "outputs": [
        {
          "output_type": "stream",
          "name": "stdout",
          "text": [
            "X_train: torch.Size([100, 1, 28, 28]) type torch.FloatTensor\n",
            "y_train: torch.Size([100]) type: torch.LongTensor\n",
            "X_test: torch.Size([500, 1, 28, 28]) type torch.FloatTensor\n",
            "y_test: torch.Size([500]) type: torch.LongTensor\n"
          ]
        }
      ]
    },
    {
      "cell_type": "markdown",
      "source": [
        "**Data visualization**"
      ],
      "metadata": {
        "id": "ddhz6IeKrue9"
      }
    },
    {
      "cell_type": "code",
      "source": [
        "pltsize=1\n",
        "plt.figure(figsize=(10*pltsize, pltsize))\n",
        "\n",
        "for i in range(10):\n",
        "    plt.subplot(1,10,i+1)\n",
        "    plt.axis('off')\n",
        "    plt.imshow(X_train[i,:,:,:].numpy().reshape(28,28), cmap=\"gray_r\")\n",
        "    plt.title('Class: '+str(y_train[i].item()))"
      ],
      "metadata": {
        "colab": {
          "base_uri": "https://localhost:8080/",
          "height": 94
        },
        "id": "dkcojz4gDic9",
        "outputId": "3ce55604-050f-40ed-9da8-6813a36e07f3"
      },
      "execution_count": null,
      "outputs": [
        {
          "output_type": "display_data",
          "data": {
            "text/plain": [
              "<Figure size 720x72 with 10 Axes>"
            ],
            "image/png": "[encoded data removed]"
          },
          "metadata": {
            "needs_background": "light"
          }
        }
      ]
    },
    {
      "cell_type": "markdown",
      "source": [
        "**Modelling**"
      ],
      "metadata": {
        "id": "48qIaW34sU8M"
      }
    },
    {
      "cell_type": "code",
      "source": [
        "class Model(nn.Module):\n",
        "  def __init__(self, input_size, hidden_size_1, hidden_size_2, output_size):\n",
        "    super().__init__()\n",
        "\n",
        "    self.l1 = nn.Linear(input_size,hidden_size_1)\n",
        "    self.l2 = nn.Linear(hidden_size_1, hidden_size_2)\n",
        "    self.l3 = nn.Linear(hidden_size_2, output_size)\n",
        "\n",
        "  def forward(self,X):\n",
        "    X = torch.sigmoid(self.l1(X))\n",
        "    X = torch.sigmoid(self.l2(X))\n",
        "    X = self.l3(X)\n",
        "    return X\n",
        "  "
      ],
      "metadata": {
        "id": "7Sitz-VLD20m"
      },
      "execution_count": null,
      "outputs": []
    },
    {
      "cell_type": "code",
      "source": [
        "model = Model(input_size, hidden_size_1, hidden_size_2, num_classes)"
      ],
      "metadata": {
        "id": "jRXH-8YBGxUi"
      },
      "execution_count": null,
      "outputs": []
    },
    {
      "cell_type": "code",
      "source": [
        "#loss and optimizer\n",
        "criterion = nn.CrossEntropyLoss()\n",
        "optimizer = torch.optim.Adam(model.parameters(), lr= learning_rate)\n",
        "\n",
        "print(model)"
      ],
      "metadata": {
        "colab": {
          "base_uri": "https://localhost:8080/"
        },
        "id": "krr6wuBtlFR8",
        "outputId": "f040514c-51f1-471f-d3e2-0a6618aefa9b"
      },
      "execution_count": null,
      "outputs": [
        {
          "output_type": "stream",
          "name": "stdout",
          "text": [
            "Model(\n",
            "  (l1): Linear(in_features=784, out_features=150, bias=True)\n",
            "  (l2): Linear(in_features=150, out_features=100, bias=True)\n",
            "  (l3): Linear(in_features=100, out_features=10, bias=True)\n",
            ")\n"
          ]
        }
      ]
    },
    {
      "cell_type": "code",
      "source": [
        "# training\n",
        "train_losses = []\n",
        "test_losses = []\n",
        "train_correct = []\n",
        "test_correct= []\n",
        "\n",
        "\n",
        "for i in range(epochs):\n",
        "  train_corr = 0\n",
        "  test_corr = 0\n",
        "  total_loss= 0\n",
        "\n",
        "  for step,(X_train, y_train) in enumerate(train_loader):\n",
        "    step += 1\n",
        "\n",
        "    # Apply the model \n",
        "\n",
        "    y_pred = model(X_train.view(100,-1))\n",
        "    loss = criterion(y_pred, y_train)\n",
        "    total_loss += loss\n",
        "\n",
        "    # Calculate the number of correct predictions\n",
        "    predicted = torch.max(y_pred.data, 1)[1]\n",
        "    batch_corr = (predicted==y_train).sum()\n",
        "    train_corr += batch_corr\n",
        "\n",
        "    # Update parameters\n",
        "    optimizer.zero_grad() # reset the gradients after each training step\n",
        "    loss.backward() # to trigger backprop\n",
        "    optimizer.step() # perform parameter update\n",
        "\n",
        "    # Print interim results\n",
        "\n",
        "    if step%600 == 0:\n",
        "      print(f\"epoch: {i+1} Train loss: {total_loss.item()/600} Train accuracy: {train_corr.item()/60000}\")\n",
        "    \n",
        "    \n",
        "  # Update train loss & accuracy for the epoch\n",
        "  train_losses.append(total_loss/600)\n",
        "  train_correct.append(train_corr) \n",
        "\n",
        "  # Run the testing batches\n",
        "  total_loss= 0\n",
        "  predictions= []\n",
        "  true_labels= []\n",
        "  with torch.no_grad(): # don't calculate gradients during testing\n",
        "    for step, (X_test, y_test) in enumerate(test_loader):\n",
        "      step += 1\n",
        "\n",
        "      # Apply the model\n",
        "      y_val = model(X_test.view(500,-1))\n",
        "\n",
        "      predicted = torch.max(y_val.data,1)[1]\n",
        "      test_corr += (predicted == y_test).sum()\n",
        "\n",
        "      predictions.append(predicted)\n",
        "      true_labels.append(y_test)\n",
        "\n",
        "      # Update test loss & accuracy for the epoch \n",
        "      loss = criterion(y_val, y_test)\n",
        "      total_loss += loss\n",
        "\n",
        "      if step%20 == 0:\n",
        "        print(f\"epoch: {i+1} Test loss: {total_loss.item()/20} Test accuracy: {test_corr.item()/10000}\")\n",
        "\n",
        "    test_losses.append(total_loss/20)\n",
        "    test_correct.append(test_corr)\n",
        "\n"
      ],
      "metadata": {
        "colab": {
          "base_uri": "https://localhost:8080/"
        },
        "id": "reX278ZYlbnQ",
        "outputId": "26b011b4-153d-417d-eb06-b05eb5014c39"
      },
      "execution_count": null,
      "outputs": [
        {
          "output_type": "stream",
          "name": "stdout",
          "text": [
            "epoch: 1 Train loss: 0.747686767578125 Train accuracy: 0.8034166666666667\n",
            "epoch: 1 Test loss: 0.2864219665527344 Test accuracy: 0.9188\n",
            "epoch: 2 Train loss: 0.23862101236979166 Train accuracy: 0.9314833333333333\n",
            "epoch: 2 Test loss: 0.19835517406463624 Test accuracy: 0.9406\n",
            "epoch: 3 Train loss: 0.17173399607340495 Train accuracy: 0.95035\n",
            "epoch: 3 Test loss: 0.1555253267288208 Test accuracy: 0.9526\n",
            "epoch: 4 Train loss: 0.13330000559488933 Train accuracy: 0.9611166666666666\n",
            "epoch: 4 Test loss: 0.12862595319747924 Test accuracy: 0.9614\n",
            "epoch: 5 Train loss: 0.1073471196492513 Train accuracy: 0.9694\n",
            "epoch: 5 Test loss: 0.11211254596710205 Test accuracy: 0.965\n",
            "epoch: 6 Train loss: 0.08768373489379883 Train accuracy: 0.9747833333333333\n",
            "epoch: 6 Test loss: 0.10685462951660156 Test accuracy: 0.9678\n",
            "epoch: 7 Train loss: 0.07358594258626303 Train accuracy: 0.9788\n",
            "epoch: 7 Test loss: 0.09382563829421997 Test accuracy: 0.9705\n",
            "epoch: 8 Train loss: 0.06109528223673503 Train accuracy: 0.9821666666666666\n",
            "epoch: 8 Test loss: 0.0891559362411499 Test accuracy: 0.9726\n",
            "epoch: 9 Train loss: 0.051875362396240236 Train accuracy: 0.9849166666666667\n",
            "epoch: 9 Test loss: 0.08417975306510925 Test accuracy: 0.973\n",
            "epoch: 10 Train loss: 0.04391232808430989 Train accuracy: 0.9873833333333333\n",
            "epoch: 10 Test loss: 0.07890803813934326 Test accuracy: 0.9758\n",
            "epoch: 11 Train loss: 0.03619877497355143 Train accuracy: 0.9904333333333334\n",
            "epoch: 11 Test loss: 0.07562668323516845 Test accuracy: 0.9769\n",
            "epoch: 12 Train loss: 0.03048996925354004 Train accuracy: 0.99175\n",
            "epoch: 12 Test loss: 0.0764710247516632 Test accuracy: 0.9765\n",
            "epoch: 13 Train loss: 0.025404240290323895 Train accuracy: 0.9933833333333333\n",
            "epoch: 13 Test loss: 0.07806087732315063 Test accuracy: 0.9768\n",
            "epoch: 14 Train loss: 0.021017862955729168 Train accuracy: 0.9948833333333333\n",
            "epoch: 14 Test loss: 0.07862315773963928 Test accuracy: 0.9765\n",
            "epoch: 15 Train loss: 0.0177311372756958 Train accuracy: 0.9957666666666667\n",
            "epoch: 15 Test loss: 0.07939671277999878 Test accuracy: 0.9769\n"
          ]
        }
      ]
    },
    {
      "cell_type": "code",
      "source": [
        "# Test accuracy\n",
        "print(f\"Test accuracy: {test_correct[-1].item()*100/10000}%\")"
      ],
      "metadata": {
        "colab": {
          "base_uri": "https://localhost:8080/"
        },
        "id": "TGLcJXdVzF55",
        "outputId": "8c493a3e-8a00-4ad3-9602-ca02a1c424b6"
      },
      "execution_count": null,
      "outputs": [
        {
          "output_type": "stream",
          "name": "stdout",
          "text": [
            "Test accuracy: 97.69%\n"
          ]
        }
      ]
    },
    {
      "cell_type": "markdown",
      "source": [
        "**Loss graphs**"
      ],
      "metadata": {
        "id": "mBxe1BVBsclJ"
      }
    },
    {
      "cell_type": "code",
      "source": [
        "with torch.no_grad():\n",
        "  plt.plot(train_losses)\n",
        "  plt.title(\"Train Loss for different number of epochs\")\n",
        "  plt.xlabel(\"Number of epochs\")\n",
        "  plt.ylabel(\"Train Loss\")\n"
      ],
      "metadata": {
        "colab": {
          "base_uri": "https://localhost:8080/",
          "height": 54
        },
        "id": "OVFouC1Z0hWU",
        "outputId": "fe026f6f-8bf3-4124-f36d-e31b0760becd"
      },
      "execution_count": null,
      "outputs": [
        {
          "output_type": "display_data",
          "data": {
            "text/plain": [
              "<Figure size 432x288 with 1 Axes>"
            ],
            "image/png": "[encoded data removed]"
          },
          "metadata": {
            "needs_background": "light"
          }
        }
      ]
    },
    {
      "cell_type": "code",
      "source": [
        "with torch.no_grad():\n",
        "  plt.plot(test_losses)\n",
        "  plt.title(\"Test loss for different number of epochs\")\n",
        "  plt.xlabel(\"Number of epochs\")\n",
        "  plt.ylabel(\"Test Loss\")\n",
        "  plt.legend()"
      ],
      "metadata": {
        "colab": {
          "base_uri": "https://localhost:8080/",
          "height": 312
        },
        "id": "wk9xfzhrIBDA",
        "outputId": "03637320-dfae-41de-baf5-6a821676d3b0"
      },
      "execution_count": null,
      "outputs": [
        {
          "output_type": "stream",
          "name": "stderr",
          "text": [
            "WARNING:matplotlib.legend:No handles with labels found to put in legend.\n"
          ]
        },
        {
          "output_type": "display_data",
          "data": {
            "text/plain": [
              "<Figure size 432x288 with 1 Axes>"
            ],
            "image/png": "[encoded data removed]"
          },
          "metadata": {
            "needs_background": "light"
          }
        }
      ]
    },
    {
      "cell_type": "markdown",
      "source": [
        "**Performance graphs**"
      ],
      "metadata": {
        "id": "NSYGSH1SseyO"
      }
    },
    {
      "cell_type": "code",
      "source": [
        "with torch.no_grad():\n",
        "  plt.plot([t/600 for t in train_correct])\n",
        "  plt.title(\"Training performance for different number of epochs\")\n",
        "  plt.xlabel(\"Number of epochs\")\n",
        "  plt.ylabel(\"Training accuracy\")"
      ],
      "metadata": {
        "colab": {
          "base_uri": "https://localhost:8080/",
          "height": 295
        },
        "id": "sh0kdVQk_Mwz",
        "outputId": "cd0a1998-5136-4440-b12e-3643463d26cc"
      },
      "execution_count": null,
      "outputs": [
        {
          "output_type": "display_data",
          "data": {
            "text/plain": [
              "<Figure size 432x288 with 1 Axes>"
            ],
            "image/png": "[encoded data removed]"
          },
          "metadata": {
            "needs_background": "light"
          }
        }
      ]
    },
    {
      "cell_type": "code",
      "source": [
        "with torch.no_grad():\n",
        "  plt.plot([t/100 for t in test_correct])\n",
        "  plt.title(\" Testing performance for different number of epochs\")\n",
        "  plt.xlabel(\"Number of epochs\")\n",
        "  plt.ylabel(\"Testing accuracy\")"
      ],
      "metadata": {
        "colab": {
          "base_uri": "https://localhost:8080/",
          "height": 295
        },
        "id": "WcwBfEQiICVg",
        "outputId": "9e101845-628a-4e0e-8034-773dc604a9f1"
      },
      "execution_count": null,
      "outputs": [
        {
          "output_type": "display_data",
          "data": {
            "text/plain": [
              "<Figure size 432x288 with 1 Axes>"
            ],
            "image/png": "[encoded data removed]"
          },
          "metadata": {
            "needs_background": "light"
          }
        }
      ]
    },
    {
      "cell_type": "markdown",
      "source": [
        "In order to get confusion matrix, precision score, recall score and f1 score, predictions and true labels are needed"
      ],
      "metadata": {
        "id": "uAkAB5yRsrdd"
      }
    },
    {
      "cell_type": "code",
      "source": [
        "len(predictions)  # predictions list has 20 batch, every batch has 500 sample"
      ],
      "metadata": {
        "colab": {
          "base_uri": "https://localhost:8080/"
        },
        "id": "3XcS9p62BySd",
        "outputId": "b12e98ab-a594-469b-8ae8-8fd4708920c9"
      },
      "execution_count": null,
      "outputs": [
        {
          "output_type": "execute_result",
          "data": {
            "text/plain": [
              "20"
            ]
          },
          "metadata": {},
          "execution_count": 99
        }
      ]
    },
    {
      "cell_type": "code",
      "source": [
        "prediction_list= []\n",
        "for i in predictions:\n",
        "  for j in i:\n",
        "    prediction_list.append(j.item())"
      ],
      "metadata": {
        "id": "7q1Ux4dGJb84"
      },
      "execution_count": null,
      "outputs": []
    },
    {
      "cell_type": "code",
      "source": [
        "label_list= []\n",
        "for i in true_labels:\n",
        "  for j in i:\n",
        "    label_list.append(j.item())"
      ],
      "metadata": {
        "id": "jOkakWBrKF1C"
      },
      "execution_count": null,
      "outputs": []
    },
    {
      "cell_type": "markdown",
      "source": [
        "**Scores**"
      ],
      "metadata": {
        "id": "PgSAvaOduyjg"
      }
    },
    {
      "cell_type": "code",
      "source": [
        "print(confusion_matrix(label_list, prediction_list))\n",
        "print(\"Precision score:\", precision_score(label_list, prediction_list,  average=\"micro\"))\n",
        "print(\"Recall score:\", recall_score(label_list, prediction_list, average=\"micro\"))\n",
        "print(\"F1_score:\", f1_score(label_list, prediction_list,average=\"micro\"))"
      ],
      "metadata": {
        "colab": {
          "base_uri": "https://localhost:8080/"
        },
        "id": "FmxsEZNrKH8O",
        "outputId": "ea1d69ad-5dfe-4fe6-e674-1f95fcc34dcd"
      },
      "execution_count": null,
      "outputs": [
        {
          "output_type": "stream",
          "name": "stdout",
          "text": [
            "[[ 970    0    2    1    0    3    1    1    1    1]\n",
            " [   0 1123    2    2    0    1    2    2    3    0]\n",
            " [   3    2 1006    7    1    1    1    6    5    0]\n",
            " [   0    0    0 1003    0    1    0    3    3    0]\n",
            " [   1    0    1    1  950    0    7    5    1   16]\n",
            " [   2    0    0   18    2  854    4    2    8    2]\n",
            " [   6    4    1    1    1    2  935    1    7    0]\n",
            " [   0    3    7    4    1    1    0 1003    3    6]\n",
            " [   2    0    2    8    2    3    3    2  951    1]\n",
            " [   1    2    0   10    3    3    2    9    5  974]]\n",
            "Precision score: 0.9769\n",
            "Recall score: 0.9769\n",
            "F1_score: 0.9769\n"
          ]
        }
      ]
    }
  ]
}